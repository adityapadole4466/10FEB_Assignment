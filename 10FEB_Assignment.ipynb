{
 "cells": [
  {
   "cell_type": "code",
   "execution_count": 15,
   "id": "a5a0b96a-1426-4c33-b80e-366dde351653",
   "metadata": {},
   "outputs": [
    {
     "name": "stdout",
     "output_type": "stream",
     "text": [
      "I want to become a Engineer\n"
     ]
    }
   ],
   "source": [
    "\"\"\"Q1. Which function is used to open a file? What are the different modes of opening a file? Explain each mode\n",
    "of file opening.\n",
    "ANS:---->\n",
    "In Python, the open() function is used to open a file. \n",
    "This function returns a file object, which can be used to perform \n",
    "various operations on the file, such as reading, writing, and appending data.\n",
    "\n",
    "The different modes of opening a file are as follows:\n",
    "\n",
    "\"r\" (read mode): This is the default mode for opening a file. \n",
    "It is used to read data from a file, and the file must exist. \n",
    "If the file is not found, a FileNotFoundError is raised. In this mode, \n",
    "the file pointer is placed at the beginning of the file, and you can only read data from the file.\n",
    "\n",
    "\"w\" (write mode): This mode is used to write data to a file.\n",
    "If the file already exists, its contents will be overwritten. \n",
    "If the file does not exist, a new file will be created. In this mode,\n",
    "the file pointer is placed at the beginning of the file, and you can only write data to the file.\n",
    "\n",
    "\"a\" (append mode): This mode is used to append data to the end of a file.\n",
    "If the file already exists, the data will be added to the end of the file. \n",
    "If the file does not exist, a new file will be created. In this mode, the file pointer \n",
    "is placed at the end of the file, and you can only write data to the file.\n",
    "\n",
    "\"x\" (exclusive creation mode): This mode is used to create a new file,\n",
    "but only if it does not already exist. If the file exists, a FileExistsError is raised.\n",
    "\n",
    "\"t\" (text mode): This is the default mode for opening a file.\n",
    "It is used to open a file in text mode, which means that the data in the file is treated as a string.\n",
    "\n",
    "\"b\" (binary mode): This mode is used to open a file in binary mode, \n",
    "which means that the data in the file is treated as a sequence of bytes.\"\"\"\n",
    "\n",
    "# Open file for writing\n",
    "file = open(\"ABC.txt\", \"w\")\n",
    "\n",
    "# Write message to file\n",
    "file.write(\"I want to become a Engineer\")\n",
    "\n",
    "# Close file\n",
    "file.close()\n",
    "\n",
    "# Open file for reading\n",
    "file = open(\"ABC.txt\", \"r\")\n",
    "\n",
    "# Read contents of file\n",
    "contents = file.read()\n",
    "\n",
    "# Close file\n",
    "file.close()\n",
    "\n",
    "# Print contents of file\n",
    "print(contents)\n",
    "\n"
   ]
  },
  {
   "cell_type": "code",
   "execution_count": 16,
   "id": "4fd61629-70b0-4c87-82f5-f373f647c6e4",
   "metadata": {},
   "outputs": [
    {
     "data": {
      "text/plain": [
       "\"\\nQ2. Why close() function is used? Why is it important to close a file?\\nANS:--->\\nIn Python, the close() function is used to close an open file object. \\nIt is important to close a file object after you are done using it, because:\\n\\nIt frees up system resources: When you open a file in Python, the operating \\nsystem allocates system resources to the file object. If you don't close the file,\\nthose resources will continue to be allocated to the file object, even if you are\\nno longer using it. This can cause problems if you open many files without closing them,\\nas you may run out of system resources.\\n\\nIt flushes the output buffer: When you write data to a file in Python, the data \\nis first stored in an output buffer. The buffer is then flushed \\n(i.e., the data is written to the file) when the buffer is full, \\nor when the file is closed. If you don't close the file, any data\\nthat is still in the output buffer will not be written to the file, which can cause data loss.\\n\\nIt ensures data integrity: When you close a file in Python, \\nany changes that you have made to the file are written to disk.\\nIf you don't close the file, any changes that you have made may \\nnot be saved, which can cause data corruption.\\n\\nIn summary, it is important to close a file after you are done using it,\\nin order to free up system resources, flush the output buffer, and ensure data integrity.\\n\\n\""
      ]
     },
     "execution_count": 16,
     "metadata": {},
     "output_type": "execute_result"
    }
   ],
   "source": [
    "\"\"\"\n",
    "Q2. Why close() function is used? Why is it important to close a file?\n",
    "ANS:--->\n",
    "In Python, the close() function is used to close an open file object. \n",
    "It is important to close a file object after you are done using it, because:\n",
    "\n",
    "It frees up system resources: When you open a file in Python, the operating \n",
    "system allocates system resources to the file object. If you don't close the file,\n",
    "those resources will continue to be allocated to the file object, even if you are\n",
    "no longer using it. This can cause problems if you open many files without closing them,\n",
    "as you may run out of system resources.\n",
    "\n",
    "It flushes the output buffer: When you write data to a file in Python, the data \n",
    "is first stored in an output buffer. The buffer is then flushed \n",
    "(i.e., the data is written to the file) when the buffer is full, \n",
    "or when the file is closed. If you don't close the file, any data\n",
    "that is still in the output buffer will not be written to the file, which can cause data loss.\n",
    "\n",
    "It ensures data integrity: When you close a file in Python, \n",
    "any changes that you have made to the file are written to disk.\n",
    "If you don't close the file, any changes that you have made may \n",
    "not be saved, which can cause data corruption.\n",
    "\n",
    "In summary, it is important to close a file after you are done using it,\n",
    "in order to free up system resources, flush the output buffer, and ensure data integrity.\n",
    "\n",
    "\"\"\""
   ]
  },
  {
   "cell_type": "code",
   "execution_count": 17,
   "id": "97d31a42-013c-4398-ba61-1cd2a618b4d4",
   "metadata": {},
   "outputs": [
    {
     "name": "stdout",
     "output_type": "stream",
     "text": [
      "I want to become a Data Scientist\n"
     ]
    }
   ],
   "source": [
    "\"\"\"\n",
    "Q3. Write a python program to create a text file. Write ‘I want to become a Data Scientist’ in that file. Then\n",
    "close the file. Open this file and read the content of the file.\n",
    "ANS--->\n",
    "\"\"\"\n",
    "# Open file for writing\n",
    "file = open(\"my_file.txt\", \"w\")\n",
    "\n",
    "# Write message to file\n",
    "file.write(\"I want to become a Data Scientist\")\n",
    "\n",
    "# Close file\n",
    "file.close()\n",
    "\n",
    "# Open file for reading\n",
    "file = open(\"my_file.txt\", \"r\")\n",
    "\n",
    "# Read contents of file\n",
    "contents = file.read()\n",
    "\n",
    "# Close file\n",
    "file.close()\n",
    "\n",
    "# Print contents of file\n",
    "print(contents)\n"
   ]
  },
  {
   "cell_type": "code",
   "execution_count": 23,
   "id": "96788f19-4368-4fbb-a9b6-46add39935a1",
   "metadata": {},
   "outputs": [
    {
     "name": "stdout",
     "output_type": "stream",
     "text": [
      "I want to become a Engineer\n"
     ]
    }
   ],
   "source": [
    "\"\"\"\n",
    "Q4. Explain the following with python code: read(), readline() and readlines().\n",
    "ANS:---->\n",
    "In Python, there are three methods you can use to read data from a file: \n",
    "read(), readline(), and readlines(). Here's how each of these methods works:\n",
    "\n",
    "1.read(): The read() method reads the entire contents of a file and returns it as a string.\n",
    "You can optionally pass in a parameter to specify the number of characters to read from the file.\n",
    "If you don't pass in a parameter, read() will read the entire contents of the file.\n",
    "\n",
    "\"\"\"\n",
    "# Example using read()\n",
    "with open(\"ABC.txt\", \"r\") as file:\n",
    "    contents = file.read()\n",
    "    print(contents)\n"
   ]
  },
  {
   "cell_type": "code",
   "execution_count": 26,
   "id": "5433447d-69eb-4236-8b9b-6aa8a60271e2",
   "metadata": {},
   "outputs": [
    {
     "name": "stdout",
     "output_type": "stream",
     "text": [
      "I want to become a Engineer\n"
     ]
    }
   ],
   "source": [
    "\"\"\"\n",
    "2.readline(): The readline() method reads a single line from a file and returns it as a string. \n",
    "Each time you call readline(), it will read the next line of the file. \n",
    "If you call readline() when there are no more lines left in the file, it will return an empty string.\n",
    "\n",
    "\"\"\"\n",
    "# Example using readline()\n",
    "with open(\"ABC.txt\", \"r\") as file:\n",
    "    line = file.readline()\n",
    "    while line:\n",
    "        print(line)\n",
    "        line = file.readline()\n"
   ]
  },
  {
   "cell_type": "code",
   "execution_count": 27,
   "id": "ef4a3ab3-25e3-44fb-9c44-376db3ba08b2",
   "metadata": {},
   "outputs": [
    {
     "name": "stdout",
     "output_type": "stream",
     "text": [
      "I want to become a Engineer\n"
     ]
    }
   ],
   "source": [
    "\"\"\"\n",
    "3.readlines(): The readlines() method reads all the lines of a file and returns them as a list of strings.\n",
    "Each string in the list corresponds to a single line from the file.\n",
    "\n",
    "\"\"\"\n",
    "# Example using readlines()\n",
    "with open(\"ABC.txt\", \"r\") as file:\n",
    "    lines = file.readlines()\n",
    "    for line in lines:\n",
    "        print(line)\n"
   ]
  },
  {
   "cell_type": "code",
   "execution_count": 28,
   "id": "584336ee-e26f-40a2-adbb-650fee55bb4a",
   "metadata": {},
   "outputs": [
    {
     "name": "stdout",
     "output_type": "stream",
     "text": [
      "I want to become a Engineer\n",
      "I want to become a Engineer\n"
     ]
    }
   ],
   "source": [
    "\"\"\"\n",
    "Q5. Explain why with statement is used with open(). What is the advantage of using with statement and\n",
    "open() together?\n",
    "ANS:----->\n",
    "The with statement is used with open() to provide a convenient way to clean up resources used by the file.\n",
    "When a file is opened, system resources are allocated for the file, and it's important to \n",
    "release those resources when the file is no longer needed.\n",
    "\n",
    "Using the with statement with open() ensures that the file is automatically \n",
    "closed when the block of code inside the with statement is exited, regardless \n",
    "of whether an exception is raised. This eliminates the need to explicitly call close() on the file object.\n",
    "\n",
    "Here's an example to demonstrate the advantage of using with statement with open():\n",
    "\"\"\"\n",
    "# Without using with statement\n",
    "file = open(\"ABC.txt\", \"r\")\n",
    "try:\n",
    "    contents = file.read()\n",
    "    print(contents)\n",
    "finally:\n",
    "    file.close()\n",
    "\n",
    "# Using with statement\n",
    "with open(\"ABC.txt\", \"r\") as file:\n",
    "    contents = file.read()\n",
    "    print(contents)\n",
    "\n",
    "    \"\"\"In the first example, we open the file using open(), read the contents of the file, \n",
    "and then close the file using close(). However, if an exception is raised while \n",
    "we're reading the file, the close() method might not be called, leaving the file open \n",
    "and taking up system resources.\n",
    "\n",
    "In the second example, we use with statement with open(). \n",
    "This ensures that the file is always closed, even if an exception is raised. \n",
    "This is a safer and more concise way to open and read files, and it's the recommended approach in Python.\"\"\""
   ]
  },
  {
   "cell_type": "code",
   "execution_count": 29,
   "id": "a452665a-15ee-416d-b163-f8f94b0b9af9",
   "metadata": {},
   "outputs": [],
   "source": [
    "\"\"\"Q6. Explain the write() and writelines() functions. Give a suitable example.\n",
    "ANS:--->\n",
    "\n",
    "In Python, write() and writelines() are file object methods used to write data to a file.\n",
    "\n",
    "The write() method is used to write a string or bytes object to a file. \n",
    "It returns the number of characters or bytes written to the file. \n",
    "If the file does not exist, it will be created.\n",
    "\n",
    "Here's an example of using the write() method to write a string to a file:\n",
    "\"\"\"\n",
    "with open('ABC.txt', 'w') as f:\n",
    "    f.write('Hello, world!\\n')\n"
   ]
  },
  {
   "cell_type": "code",
   "execution_count": null,
   "id": "6201d26e-a72c-48e8-bcd1-5a5f4bb2cbc6",
   "metadata": {},
   "outputs": [],
   "source": [
    "\"\"\"In Python, write() and writelines() are file object methods used to write data to a file.\n",
    "\n",
    "The write() method is used to write a string or bytes object to a file.\n",
    "It returns the number of characters or bytes written to the file. If the file does not exist,\n",
    "it will be created.\n",
    "\n",
    "Here's an example of using the write() method to write a string to a file:\"\"\"\n",
    "\n",
    "\n",
    "with open('example.txt', 'w') as f:\n",
    "    f.write('Hello, world!\\n')\n",
    "    \n",
    "    \n",
    "\"\"\"In this example, the with statement is used to open the file example.txt in write mode.\n",
    "The write() method is used to write the string \"Hello, world!\" to the file, followed by a \n",
    "newline character. The file is automatically closed at the end of the with block.\n",
    "\n",
    "The writelines() method is used to write a list of strings or bytes objects to a file. \n",
    "Each item in the list is written to the file as a separate line. It does not add a newline \n",
    "character between the items. If the file does not exist, it will be created.\n",
    "\n",
    "Here's an example of using the writelines() method to write a list of strings to a file:\"\"\""
   ]
  }
 ],
 "metadata": {
  "kernelspec": {
   "display_name": "Python 3 (ipykernel)",
   "language": "python",
   "name": "python3"
  },
  "language_info": {
   "codemirror_mode": {
    "name": "ipython",
    "version": 3
   },
   "file_extension": ".py",
   "mimetype": "text/x-python",
   "name": "python",
   "nbconvert_exporter": "python",
   "pygments_lexer": "ipython3",
   "version": "3.10.8"
  }
 },
 "nbformat": 4,
 "nbformat_minor": 5
}
